{
 "cells": [
  {
   "cell_type": "code",
   "execution_count": null,
   "metadata": {},
   "outputs": [],
   "source": [
    "from tkinter import *\n",
    "import random_scan\n",
    "import local_preference_scan\n",
    "\n",
    "def sel():\n",
    "   selection = \"You selected the option \" + str(var.get())\n",
    "   label.config(text = selection)\n",
    "\n",
    "def startScan():\n",
    "    startMsg=Label(bottomFrame, text=\"Starting Scan: \"+str(var.get()))\n",
    "    startMsg.pack()\n",
    "    \n",
    "    \n",
    "root=Tk()\n",
    "root.geometry(\"500x200\")\n",
    "topFrame=Frame(root, width=300, height=250)\n",
    "topFrame.pack()\n",
    "bottomFrame=Frame(root, width=300, height=250)\n",
    "bottomFrame.pack(side=BOTTOM)\n",
    "\n",
    "instructions=Label(topFrame, text=\"Choose the type of propagation\")\n",
    "instructions.pack();\n",
    "\n",
    "var = StringVar()\n",
    "R1 = Radiobutton(topFrame, text=\"Random Scanning\", variable=var, value=\"Random Scanning\", command=sel, justify=LEFT)\n",
    "R1.pack( anchor = W )\n",
    "\n",
    "R2 = Radiobutton(topFrame, text=\"Local Preferance Scanning\", variable=var, value=\"Local Preferance Scanning\", command=sel, justify=LEFT)\n",
    "R2.pack( anchor = W )\n",
    "\n",
    "startBtn=Button(bottomFrame, text=\"Start Scan\", command=startScan)\n",
    "startBtn.pack()\n",
    "\n",
    "label=Label(bottomFrame)\n",
    "label.pack()\n",
    "\n",
    "root.mainloop()\n"
   ]
  }
 ],
 "metadata": {
  "kernelspec": {
   "display_name": "Python 3",
   "language": "python",
   "name": "python3"
  },
  "language_info": {
   "codemirror_mode": {
    "name": "ipython",
    "version": 3
   },
   "file_extension": ".py",
   "mimetype": "text/x-python",
   "name": "python",
   "nbconvert_exporter": "python",
   "pygments_lexer": "ipython3",
   "version": "3.8.6"
  }
 },
 "nbformat": 4,
 "nbformat_minor": 4
}
